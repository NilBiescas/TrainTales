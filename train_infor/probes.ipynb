{
 "cells": [
  {
   "cell_type": "code",
   "execution_count": 1,
   "metadata": {},
   "outputs": [],
   "source": [
    "import requests"
   ]
  },
  {
   "cell_type": "code",
   "execution_count": 2,
   "metadata": {},
   "outputs": [],
   "source": [
    "# Buscar\n",
    "user_localization = [40.4165000, -3.7025600]"
   ]
  },
  {
   "cell_type": "code",
   "execution_count": 3,
   "metadata": {},
   "outputs": [],
   "source": [
    "import requests\n",
    "\n",
    "# Define the endpoint URL for train localization\n",
    "endpoint_url = 'https://dadesobertes.fgc.cat/api/records/1.0/search/'\n",
    "\n",
    "# Set up the parameters\n",
    "params = {\n",
    "    'dataset': 'posicionament-dels-trens',\n",
    "    'rows': 100,  # Number of records to fetch\n",
    "    'q': 'lin:S2'  # Replace LINE_ID with the specific line you want to filter by\n",
    "}\n",
    "\n",
    "# Make the request\n",
    "response = requests.get(endpoint_url, params=params)\n",
    "\n",
    "# Check if the response is successful\n",
    "if response.status_code == 200:\n",
    "    # Parse the JSON response\n",
    "    train_data = response.json()       \n",
    "else:\n",
    "    print(\"Error:\", response.status_code, response.text)\n"
   ]
  },
  {
   "cell_type": "code",
   "execution_count": 33,
   "metadata": {},
   "outputs": [
    {
     "data": {
      "text/plain": [
       "dict_keys(['ocupacio_m2_tram', 'lin', 'id', 'ocupacio_m1_tram', 'ocupacio_ri_tram', 'ocupacio_m2_percent', 'geo_point_2d', 'ocupacio_m1_percent', 'ocupacio_mi_percent', 'ocupacio_ri_percent', 'ocupacio_mi_tram', 'origen', 'dir', 'properes_parades', 'desti', 'en_hora', 'estacionat_a', 'ut', 'tipus_unitat'])"
      ]
     },
     "execution_count": 33,
     "metadata": {},
     "output_type": "execute_result"
    }
   ],
   "source": [
    "train_data['records'][0]['fields'].keys()"
   ]
  },
  {
   "cell_type": "code",
   "execution_count": null,
   "metadata": {},
   "outputs": [],
   "source": [
    "train_data['records'][0]['fields']"
   ]
  },
  {
   "cell_type": "code",
   "execution_count": 41,
   "metadata": {},
   "outputs": [],
   "source": [
    "trains = []\n",
    "for data in train_data['records']:   \n",
    "    geo = data['fields']['geo_point_2d']\n",
    "    trains.append({'id': data['fields']['id'], 'lat': geo[0], 'lon': geo[1]})"
   ]
  },
  {
   "cell_type": "code",
   "execution_count": 5,
   "metadata": {},
   "outputs": [
    {
     "ename": "NameError",
     "evalue": "name 'trains' is not defined",
     "output_type": "error",
     "traceback": [
      "\u001b[1;31m---------------------------------------------------------------------------\u001b[0m",
      "\u001b[1;31mNameError\u001b[0m                                 Traceback (most recent call last)",
      "\u001b[1;32m~\\AppData\\Local\\Temp\\ipykernel_19788\\3697484228.py\u001b[0m in \u001b[0;36m<module>\u001b[1;34m\u001b[0m\n\u001b[0;32m     17\u001b[0m \u001b[0mmin_distance\u001b[0m \u001b[1;33m=\u001b[0m \u001b[0mfloat\u001b[0m\u001b[1;33m(\u001b[0m\u001b[1;34m'inf'\u001b[0m\u001b[1;33m)\u001b[0m\u001b[1;33m\u001b[0m\u001b[1;33m\u001b[0m\u001b[0m\n\u001b[0;32m     18\u001b[0m \u001b[1;33m\u001b[0m\u001b[0m\n\u001b[1;32m---> 19\u001b[1;33m \u001b[1;32mfor\u001b[0m \u001b[0mtrain\u001b[0m \u001b[1;32min\u001b[0m \u001b[0mtrains\u001b[0m\u001b[1;33m:\u001b[0m\u001b[1;33m\u001b[0m\u001b[1;33m\u001b[0m\u001b[0m\n\u001b[0m\u001b[0;32m     20\u001b[0m     \u001b[0mdistance\u001b[0m \u001b[1;33m=\u001b[0m \u001b[0mhaversine\u001b[0m\u001b[1;33m(\u001b[0m\u001b[0muser_lat\u001b[0m\u001b[1;33m,\u001b[0m \u001b[0muser_lon\u001b[0m\u001b[1;33m,\u001b[0m \u001b[0mtrain\u001b[0m\u001b[1;33m[\u001b[0m\u001b[1;34m'lat'\u001b[0m\u001b[1;33m]\u001b[0m\u001b[1;33m,\u001b[0m \u001b[0mtrain\u001b[0m\u001b[1;33m[\u001b[0m\u001b[1;34m'lon'\u001b[0m\u001b[1;33m]\u001b[0m\u001b[1;33m)\u001b[0m\u001b[1;33m\u001b[0m\u001b[1;33m\u001b[0m\u001b[0m\n\u001b[0;32m     21\u001b[0m     \u001b[1;32mif\u001b[0m \u001b[0mdistance\u001b[0m \u001b[1;33m<\u001b[0m \u001b[0mmin_distance\u001b[0m\u001b[1;33m:\u001b[0m\u001b[1;33m\u001b[0m\u001b[1;33m\u001b[0m\u001b[0m\n",
      "\u001b[1;31mNameError\u001b[0m: name 'trains' is not defined"
     ]
    }
   ],
   "source": [
    "import math\n",
    "\n",
    "def haversine(lat1, lon1, lat2, lon2):\n",
    "    R = 6371  # Radius of the Earth in km\n",
    "    dlat = math.radians(lat2 - lat1)\n",
    "    dlon = math.radians(lon2 - lon1)\n",
    "    a = math.sin(dlat / 2) ** 2 + math.cos(math.radians(lat1)) * math.cos(math.radians(lat2)) * math.sin(dlon / 2) ** 2\n",
    "    c = 2 * math.atan2(math.sqrt(a), math.sqrt(1 - a))\n",
    "    return R * c\n",
    "\n",
    "# User location\n",
    "user_lat = 41.3851  # Example latitude\n",
    "user_lon = 2.1734   # Example longitude\n",
    "\n",
    "# Find the nearest train\n",
    "nearest_train = None\n",
    "min_distance = float('inf')\n",
    "\n",
    "for train in trains:\n",
    "    distance = haversine(user_lat, user_lon, train['lat'], train['lon'])\n",
    "    if distance < min_distance:\n",
    "        min_distance = distance\n",
    "        nearest_train = train\n",
    "\n",
    "print(f\"The nearest train is {nearest_train['id']} at a distance of {min_distance:.2f} km\")\n"
   ]
  },
  {
   "cell_type": "code",
   "execution_count": 18,
   "metadata": {},
   "outputs": [],
   "source": [
    "def get_trains(rows = 100, line = 'S2'):\n",
    "    # Define the endpoint URL for train localization\n",
    "    endpoint_url = 'https://dadesobertes.fgc.cat/api/records/1.0/search/'\n",
    "\n",
    "    # Set up the parameters\n",
    "    params = {\n",
    "        'dataset': 'posicionament-dels-trens',\n",
    "        'rows': rows,  # Number of records to fetch\n",
    "        'q': f'lin:{line}'  # Replace LINE_ID with the specific line you want to filter by\n",
    "    }\n",
    "\n",
    "    # Make the request\n",
    "    response = requests.get(endpoint_url, params=params)\n",
    "\n",
    "    # Check if the response is successful\n",
    "    if response.status_code == 200:\n",
    "        # Parse the JSON response\n",
    "        train_data = response.json()       \n",
    "    else:\n",
    "        print(\"Error:\", response.status_code, response.text)\n",
    "    return train_data\n",
    "\n",
    "def haversine(lat1, lon1, lat2, lon2):\n",
    "    R = 6371  # Radius of the Earth in km\n",
    "    dlat = math.radians(lat2 - lat1)\n",
    "    dlon = math.radians(lon2 - lon1)\n",
    "    a = math.sin(dlat / 2) ** 2 + math.cos(math.radians(lat1)) * math.cos(math.radians(lat2)) * math.sin(dlon / 2) ** 2\n",
    "    c = 2 * math.atan2(math.sqrt(a), math.sqrt(1 - a))\n",
    "    return R * c\n",
    "\n",
    "def get_my_train(user_lat, user_lon, trains_information):\n",
    "    trains_info = []\n",
    "    for data in trains_information['records']:   \n",
    "        geo = data['fields']['geo_point_2d']\n",
    "        trains_info.append({'id': data['fields']['id'], 'lat': geo[0], 'lon': geo[1]})\n",
    "    \n",
    "    nearest_train = None\n",
    "    min_distance = float('inf')\n",
    "\n",
    "    for train in trains_info:\n",
    "        distance = haversine(user_lat, user_lon, train['lat'], train['lon'])\n",
    "        if distance < min_distance:\n",
    "            min_distance = distance\n",
    "            nearest_train = train\n",
    "            \n",
    "    return nearest_train\n",
    "\n",
    "def get_train(user_lat, user_lon):\n",
    "    trains_information = get_trains()\n",
    "    nearest_train = get_my_train(user_lat = user_lat, \n",
    "                            user_lon = user_lon, \n",
    "                            trains_information = trains_information)\n",
    "    # Get my train\n",
    "    for train in trains_information['records']:\n",
    "        if train['fields']['id'] == nearest_train['id']:\n",
    "            my_train = train\n",
    "            break\n",
    "    return my_train\n",
    "    \n",
    "my_train = get_train(user_lat = 41.3851, user_lon = 2.1734)"
   ]
  },
  {
   "cell_type": "code",
   "execution_count": 24,
   "metadata": {},
   "outputs": [
    {
     "data": {
      "text/plain": [
       "'Peu del Funicular'"
      ]
     },
     "execution_count": 24,
     "metadata": {},
     "output_type": "execute_result"
    }
   ],
   "source": [
    "def get_next_stations(my_train):\n",
    "    stations = my_train['fields']['properes_parades']\n",
    "    stations = stations.split(';')\n",
    "    return eval(stations[0])['parada']\n",
    "code = get_next_stations(my_train)\n",
    "get_station_name_by_code(code)"
   ]
  },
  {
   "cell_type": "code",
   "execution_count": 10,
   "metadata": {},
   "outputs": [
    {
     "data": {
      "text/plain": [
       "dict_keys(['datasetid', 'recordid', 'fields', 'geometry', 'record_timestamp'])"
      ]
     },
     "execution_count": 10,
     "metadata": {},
     "output_type": "execute_result"
    }
   ],
   "source": [
    "my_train.keys()"
   ]
  },
  {
   "cell_type": "code",
   "execution_count": 11,
   "metadata": {},
   "outputs": [
    {
     "name": "stdout",
     "output_type": "stream",
     "text": [
      "The full name for station code PR is: Provença\n"
     ]
    }
   ],
   "source": [
    "import requests\n",
    "\n",
    "# Define the endpoint URL for the FGC stations dataset\n",
    "endpoint_url = 'https://dadesobertes.fgc.cat/api/records/1.0/search/'\n",
    "\n",
    "# Function to get the full name based on station code\n",
    "def get_station_name_by_code(station_code):\n",
    "    # Set up the parameters\n",
    "    params = {\n",
    "        'dataset': 'codigo-estaciones',\n",
    "        'q': station_code,\n",
    "        'rows': 1  # Assuming station codes are unique, fetch one record\n",
    "    }\n",
    "\n",
    "    # Make the request\n",
    "    response = requests.get(endpoint_url, params=params)\n",
    "\n",
    "    # Check if the response is successful\n",
    "    if response.status_code == 200:\n",
    "        # Parse the JSON response\n",
    "        data = response.json()\n",
    "        if data['records']:\n",
    "            fields = data['records'][0]['fields']\n",
    "            return fields['nom_estacio']\n",
    "        else:\n",
    "            return \"Station not found\"\n",
    "    else:\n",
    "        return f\"Error: {response.status_code}, {response.text}\"\n",
    "\n",
    "# Example usage\n",
    "station_code = 'PR'\n",
    "station_name = get_station_name_by_code(station_code)\n",
    "print(f\"The full name for station code {station_code} is: {station_name}\")\n"
   ]
  },
  {
   "cell_type": "code",
   "execution_count": 13,
   "metadata": {},
   "outputs": [],
   "source": [
    "import requests\n",
    "\n",
    "# URL for the FGC API endpoint that provides station data\n",
    "api_url = 'https://dadesobertes.fgc.cat/api/explore/v2.1/console/'\n",
    "\n",
    "# Assuming there is an endpoint for getting station details (you need to explore the API to find the exact one)\n",
    "response = requests.get(f'{api_url}/lines/S2/stations')\n",
    "\n",
    "# Check if the request was successful\n",
    "#if response.status_code == 200:\n",
    "#    stations = response.json()\n",
    "#    for station in stations:\n",
    "#        print(f\"Station: {station['name']}, Coordinates: ({station['lat']}, {station['lng']})\")\n",
    "#else:\n",
    "#    print(f\"Failed to retrieve data: {response.status_code}\")\n",
    "\n",
    "# Example output handling (the exact fields will depend on the API response structure)\n"
   ]
  },
  {
   "cell_type": "code",
   "execution_count": 13,
   "metadata": {},
   "outputs": [],
   "source": [
    "s2_stations = [\n",
    "    \"Barcelona Plaça Catalunya\",\n",
    "    \"Provença\",\n",
    "    \"Gràcia\",\n",
    "    \"Sant Gervasi\",\n",
    "    \"Muntaner\",\n",
    "    \"La Bonanova\",\n",
    "    \"Les Tres Torres\",\n",
    "    \"Sarrià\",\n",
    "    \"Peu del Funicular\",\n",
    "    \"Baixador de Vallvidrera\",\n",
    "    \"Les Planes\",\n",
    "    \"La Floresta\",\n",
    "    \"Valldoreix\",\n",
    "    \"Sant Cugat\",\n",
    "    \"Volpelleres\",\n",
    "    \"Sant Joan\",\n",
    "    \"Bellaterra\",\n",
    "    \"Universitat Autònoma\",\n",
    "    \"Sant Quirze\",\n",
    "    \"Can Feu | Gràcia\",\n",
    "    \"Sabadell Plaça Major\",\n",
    "    \"La Creu Alta\",\n",
    "    \"Sabadell Nord\",\n",
    "    \"Sabadell Parc del Nord\"\n",
    "]"
   ]
  },
  {
   "cell_type": "code",
   "execution_count": 16,
   "metadata": {},
   "outputs": [
    {
     "name": "stdout",
     "output_type": "stream",
     "text": [
      "Error: 429, {\n",
      "  \"error\": \"You have exceeded the requests limit for anonymous users.\",\n",
      "  \"errorcode\": 10005,\n",
      "  \"reset_time\": \"2024-05-19T00:00:00Z\",\n",
      "  \"call_limit\": 5000,\n",
      "  \"limit_time_unit\": \"day\"\n",
      "}\n"
     ]
    },
    {
     "ename": "TypeError",
     "evalue": "string indices must be integers",
     "output_type": "error",
     "traceback": [
      "\u001b[1;31m---------------------------------------------------------------------------\u001b[0m",
      "\u001b[1;31mTypeError\u001b[0m                                 Traceback (most recent call last)",
      "\u001b[1;32m~\\AppData\\Local\\Temp\\ipykernel_18076\\315308295.py\u001b[0m in \u001b[0;36m<module>\u001b[1;34m\u001b[0m\n\u001b[0;32m     34\u001b[0m     \u001b[0mstation_details\u001b[0m \u001b[1;33m=\u001b[0m \u001b[0mget_station_by_name\u001b[0m\u001b[1;33m(\u001b[0m\u001b[0mstation_name\u001b[0m\u001b[1;33m)\u001b[0m\u001b[1;33m\u001b[0m\u001b[1;33m\u001b[0m\u001b[0m\n\u001b[0;32m     35\u001b[0m     \u001b[0mprint\u001b[0m\u001b[1;33m(\u001b[0m\u001b[0mstation_details\u001b[0m\u001b[1;33m)\u001b[0m\u001b[1;33m\u001b[0m\u001b[1;33m\u001b[0m\u001b[0m\n\u001b[1;32m---> 36\u001b[1;33m     \u001b[0mlat\u001b[0m\u001b[1;33m,\u001b[0m \u001b[0mlong\u001b[0m \u001b[1;33m=\u001b[0m \u001b[0mstation_details\u001b[0m\u001b[1;33m[\u001b[0m\u001b[1;34m'stop_coordinates'\u001b[0m\u001b[1;33m]\u001b[0m\u001b[1;33m\u001b[0m\u001b[1;33m\u001b[0m\u001b[0m\n\u001b[0m\u001b[0;32m     37\u001b[0m     \u001b[0ms2_stations_pos\u001b[0m\u001b[1;33m[\u001b[0m\u001b[0mstation_name\u001b[0m\u001b[1;33m]\u001b[0m \u001b[1;33m=\u001b[0m \u001b[1;33m{\u001b[0m\u001b[1;34m'lat'\u001b[0m\u001b[1;33m:\u001b[0m \u001b[0mlat\u001b[0m\u001b[1;33m,\u001b[0m \u001b[1;34m'long'\u001b[0m\u001b[1;33m:\u001b[0m \u001b[0mlong\u001b[0m\u001b[1;33m}\u001b[0m\u001b[1;33m\u001b[0m\u001b[1;33m\u001b[0m\u001b[0m\n\u001b[0;32m     38\u001b[0m \u001b[1;33m\u001b[0m\u001b[0m\n",
      "\u001b[1;31mTypeError\u001b[0m: string indices must be integers"
     ]
    }
   ],
   "source": [
    "import requests\n",
    "import json\n",
    "# Define the endpoint URL for the FGC stations dataset\n",
    "endpoint_url = 'https://dadesobertes.fgc.cat/api/records/1.0/search/'\n",
    "\n",
    "# Function to get the station details based on station name\n",
    "def get_station_by_name(station_name):\n",
    "    # Set up the parameters\n",
    "    params = {\n",
    "        'dataset': 'gtfs_stops',\n",
    "        'q': f'stop_name:\"{station_name}\"',\n",
    "        'rows': 1  # Assuming station names are unique, fetch one record\n",
    "    }\n",
    "\n",
    "    # Make the request\n",
    "    response = requests.get(endpoint_url, params=params)\n",
    "\n",
    "    # Check if the response is successful\n",
    "    if response.status_code == 200:\n",
    "        # Parse the JSON response\n",
    "        data = response.json()\n",
    "        if data['records']:\n",
    "            fields = data['records'][0]['fields']\n",
    "            return fields\n",
    "        else:\n",
    "            return \"Station not found\"\n",
    "    else:\n",
    "        return f\"Error: {response.status_code}, {response.text}\"\n",
    "\n",
    "# Example usage\n",
    "s2_stations_pos = {}\n",
    "\n",
    "for station_name in s2_stations:\n",
    "    station_details = get_station_by_name(station_name)\n",
    "    print(station_details)\n",
    "    lat, long = station_details['stop_coordinates']\n",
    "    s2_stations_pos[station_name] = {'lat': lat, 'long': long}\n",
    "\n",
    "with open('s2_stations_pos.json', 'w') as f:\n",
    "    json.dump(s2_stations_pos, f)"
   ]
  },
  {
   "cell_type": "code",
   "execution_count": 39,
   "metadata": {},
   "outputs": [],
   "source": [
    "import json\n",
    "\n",
    "# Load the station positions from the JSON file\n",
    "with open(r'C:\\Users\\34644\\Desktop\\UABHACK\\train_infor\\codis_info_lineas.json', 'r') as f:\n",
    "    station_positions = json.load(f)"
   ]
  },
  {
   "cell_type": "code",
   "execution_count": 40,
   "metadata": {},
   "outputs": [
    {
     "data": {
      "text/plain": [
       "dict_items([('PR', {'linia': 1.0, 'nom_linia': 'Barcelona-Vallès', 'ordre': 2.0, 'estacio': 2.0, 'nom_estacio': 'Provença'}), ('PC', {'linia': 1.0, 'nom_linia': 'Barcelona-Vallès', 'ordre': 1.0, 'estacio': 1.0, 'nom_estacio': 'Pl. Catalunya'}), ('SG', {'linia': 1.0, 'nom_linia': 'Barcelona-Vallès', 'ordre': 4.0, 'estacio': 4.0, 'nom_estacio': 'Sant Gervasi'}), ('BN', {'linia': 1.0, 'nom_linia': 'Barcelona-Vallès', 'ordre': 6.0, 'estacio': 6.0, 'nom_estacio': 'La Bonanova'}), ('MN', {'linia': 1.0, 'nom_linia': 'Barcelona-Vallès', 'ordre': 5.0, 'estacio': 5.0, 'nom_estacio': 'Muntaner'}), ('RE', {'linia': 1.0, 'nom_linia': 'Barcelona-Vallès', 'ordre': 9.0, 'estacio': 9.0, 'nom_estacio': 'Reina Elisenda'}), ('TT', {'linia': 1.0, 'nom_linia': 'Barcelona-Vallès', 'ordre': 7.0, 'estacio': 7.0, 'nom_estacio': 'Les Tres Torres'}), ('PM', {'linia': 1.0, 'nom_linia': 'Barcelona-Vallès', 'ordre': 10.0, 'estacio': 10.0, 'nom_estacio': 'Plaça Molina'}), ('VL', {'linia': 1.0, 'nom_linia': 'Barcelona-Vallès', 'ordre': 23.0, 'estacio': 16.0, 'nom_estacio': 'Baixador de Vallvidrera'}), ('PF', {'linia': 1.0, 'nom_linia': 'Barcelona-Vallès', 'ordre': 21.0, 'estacio': 14.0, 'nom_estacio': 'Peu del Funicular'}), ('LF', {'linia': 1.0, 'nom_linia': 'Barcelona-Vallès', 'ordre': 25.0, 'estacio': 18.0, 'nom_estacio': 'La Floresta'}), ('EN', {'linia': 1.0, 'nom_linia': 'Barcelona-Vallès', 'ordre': 37.0, 'estacio': 43.0, 'nom_estacio': 'Terrassa  Estació del nord'}), ('SC', {'linia': 1.0, 'nom_linia': 'Barcelona-Vallès', 'ordre': 27.0, 'estacio': 20.0, 'nom_estacio': 'Sant Cugat'}), ('BT', {'linia': 1.0, 'nom_linia': 'Barcelona-Vallès', 'ordre': 42.0, 'estacio': 29.0, 'nom_estacio': 'Bellaterra'}), ('MS', {'linia': 1.0, 'nom_linia': 'Barcelona-Vallès', 'ordre': 31.0, 'estacio': 21.0, 'nom_estacio': 'Mira-Sol'}), ('CF', {'linia': 1.0, 'nom_linia': 'Barcelona-Vallès', 'ordre': 46.0, 'estacio': 34.0, 'nom_estacio': 'Can Feu | Gràcia'}), ('RB', {'linia': 1.0, 'nom_linia': 'Barcelona-Vallès', 'ordre': 33.0, 'estacio': 23.0, 'nom_estacio': 'Rubí'}), ('RA', {'linia': 1.0, 'nom_linia': 'Barcelona-Vallès', 'ordre': 47.0, 'estacio': 33.0, 'nom_estacio': 'Sabadell Rambla'}), ('FN', {'linia': 1.0, 'nom_linia': 'Barcelona-Vallès', 'ordre': 34.0, 'estacio': 24.0, 'nom_estacio': 'Les Fonts'}), ('NO', {'linia': 1.0, 'nom_linia': 'Barcelona-Vallès', 'ordre': 50.0, 'estacio': 37.0, 'nom_estacio': 'Sabadell Nord'}), ('NA', {'linia': 1.0, 'nom_linia': 'Barcelona-Vallès', 'ordre': 38.0, 'estacio': 44.0, 'nom_estacio': 'Terrassa Nacions Unides'}), ('GO', {'linia': 2.0, 'nom_linia': 'Llobregat-Anoia', 'ordre': 5.0, 'estacio': 51.0, 'nom_estacio': 'Gornal'}), ('SJ', {'linia': 1.0, 'nom_linia': 'Barcelona-Vallès', 'ordre': 41.0, 'estacio': 28.0, 'nom_estacio': 'Sant Joan'}), ('ML', {'linia': 2.0, 'nom_linia': 'Llobregat-Anoia', 'ordre': 21.0, 'estacio': 63.0, 'nom_estacio': 'Molí Nou Ciutat Cooperativa'}), ('SQ', {'linia': 1.0, 'nom_linia': 'Barcelona-Vallès', 'ordre': 44.0, 'estacio': 31.0, 'nom_estacio': 'Sant Quirze'}), ('CR', {'linia': 2.0, 'nom_linia': 'Llobregat-Anoia', 'ordre': 25.0, 'estacio': 66.0, 'nom_estacio': 'Can Ros'}), ('PJ', {'linia': 1.0, 'nom_linia': 'Barcelona-Vallès', 'ordre': 48.0, 'estacio': 35.0, 'nom_estacio': 'Sabadell Pl. Major'}), ('PA', {'linia': 2.0, 'nom_linia': 'Llobregat-Anoia', 'ordre': 27.0, 'estacio': 68.0, 'nom_estacio': 'Pallejà'}), ('CT', {'linia': 1.0, 'nom_linia': 'Barcelona-Vallès', 'ordre': 49.0, 'estacio': 36.0, 'nom_estacio': 'Creu Alta'}), ('PL', {'linia': 2.0, 'nom_linia': 'Llobregat-Anoia', 'ordre': 29.0, 'estacio': 70.0, 'nom_estacio': 'El Palau'}), ('PE', {'linia': 2.0, 'nom_linia': 'Llobregat-Anoia', 'ordre': 1.0, 'estacio': 48.0, 'nom_estacio': 'Pl. Espanya'}), ('ME', {'linia': 2.0, 'nom_linia': 'Llobregat-Anoia', 'ordre': 32.0, 'estacio': 72.0, 'nom_estacio': 'Martorell Enllaç'}), ('MG', {'linia': 2.0, 'nom_linia': 'Llobregat-Anoia', 'ordre': 2.0, 'estacio': 49.0, 'nom_estacio': 'Magòria La Campana'}), ('CB', {'linia': 2.0, 'nom_linia': 'Llobregat-Anoia', 'ordre': 43.0, 'estacio': 77.0, 'nom_estacio': 'Castellbell i El Vilar'}), ('SP', {'linia': 2.0, 'nom_linia': 'Llobregat-Anoia', 'ordre': 6.0, 'estacio': 52.0, 'nom_estacio': 'Sant Josep'}), ('VI', {'linia': 2.0, 'nom_linia': 'Llobregat-Anoia', 'ordre': 45.0, 'estacio': 79.0, 'nom_estacio': 'Manresa Viladordis'}), ('LH', {'linia': 2.0, 'nom_linia': 'Llobregat-Anoia', 'ordre': 7.0, 'estacio': 53.0, 'nom_estacio': \"L'Hospitalet Av.Carrilet\"}), ('MA', {'linia': 2.0, 'nom_linia': 'Llobregat-Anoia', 'ordre': 46.0, 'estacio': 80.0, 'nom_estacio': 'Manresa Alta'}), ('BO', {'linia': 2.0, 'nom_linia': 'Llobregat-Anoia', 'ordre': 10.0, 'estacio': 56.0, 'nom_estacio': 'Sant Boi'}), ('BE', {'linia': 2.0, 'nom_linia': 'Llobregat-Anoia', 'ordre': 52.0, 'estacio': 83.0, 'nom_estacio': 'La Beguda'}), ('CL', {'linia': 2.0, 'nom_linia': 'Llobregat-Anoia', 'ordre': 23.0, 'estacio': 64.0, 'nom_estacio': 'Santa Coloma de Cervelló'}), ('CP', {'linia': 2.0, 'nom_linia': 'Llobregat-Anoia', 'ordre': 53.0, 'estacio': 84.0, 'nom_estacio': 'Can Parellada'}), ('VH', {'linia': 2.0, 'nom_linia': 'Llobregat-Anoia', 'ordre': 24.0, 'estacio': 65.0, 'nom_estacio': 'Sant Vicenç dels Horts'}), ('PI', {'linia': 2.0, 'nom_linia': 'Llobregat-Anoia', 'ordre': 55.0, 'estacio': 86.0, 'nom_estacio': 'Piera'}), ('MC', {'linia': 2.0, 'nom_linia': 'Llobregat-Anoia', 'ordre': 31.0, 'estacio': 58.0, 'nom_estacio': 'Martorell Central'}), ('PO', {'linia': 2.0, 'nom_linia': 'Llobregat-Anoia', 'ordre': 58.0, 'estacio': 89.0, 'nom_estacio': 'La Pobla de Claramunt'}), ('OL', {'linia': 2.0, 'nom_linia': 'Llobregat-Anoia', 'ordre': 34.0, 'estacio': 74.0, 'nom_estacio': 'Olesa de Montserrat'}), ('IG', {'linia': 2.0, 'nom_linia': 'Llobregat-Anoia', 'ordre': 60.0, 'estacio': 91.0, 'nom_estacio': 'Igualada'}), ('MO', {'linia': 2.0, 'nom_linia': 'Llobregat-Anoia', 'ordre': 42.0, 'estacio': 76.0, 'nom_estacio': 'Monistrol de Montserrat'}), ('GS', {'linia': 3.0, 'nom_linia': 'Funicular de Gelida', 'ordre': 2.0, 'estacio': 61.0, 'nom_estacio': 'Gelida Superior'}), ('MQ', {'linia': 2.0, 'nom_linia': 'Llobregat-Anoia', 'ordre': 54.0, 'estacio': 85.0, 'nom_estacio': 'Masquefa'}), ('JI', {'linia': 5.0, 'nom_linia': 'Funiculars Montserrat', 'ordre': 1.0, 'estacio': 95.0, 'nom_estacio': 'Sant Joan Inferior'}), ('VA', {'linia': 2.0, 'nom_linia': 'Llobregat-Anoia', 'ordre': 56.0, 'estacio': 87.0, 'nom_estacio': \"Vallbona d'Anoia\"}), ('MP', {'linia': 8.0, 'nom_linia': 'Cremallera Montserrat', 'ordre': 2.0, 'estacio': 93.0, 'nom_estacio': 'Monistrol Vila'}), ('CA', {'linia': 2.0, 'nom_linia': 'Llobregat-Anoia', 'ordre': 57.0, 'estacio': 88.0, 'nom_estacio': 'Capellades'}), ('SM', {'linia': 9.0, 'nom_linia': 'Lleida - La Pobla', 'ordre': 8.0, 'estacio': 8.0, 'nom_estacio': 'Sant Llorenç de Montgai'}), ('JS', {'linia': 5.0, 'nom_linia': 'Funiculars Montserrat', 'ordre': 2.0, 'estacio': 96.0, 'nom_estacio': 'Sant Joan Superior'}), ('LL', {'linia': 9.0, 'nom_linia': 'Lleida - La Pobla', 'ordre': 12.0, 'estacio': 12.0, 'nom_estacio': 'Cellers-Llimiana'}), ('M4', {'linia': 5.0, 'nom_linia': 'Funiculars Montserrat', 'ordre': 3.0, 'estacio': 94.0, 'nom_estacio': 'Montserrat vdes Funic.'}), ('PT', {'linia': 9.0, 'nom_linia': 'Lleida - La Pobla', 'ordre': 14.0, 'estacio': 14.0, 'nom_estacio': 'Palau Noguera - Talarn'}), ('CS', {'linia': 5.0, 'nom_linia': 'Funiculars Montserrat', 'ordre': 3.0, 'estacio': 97.0, 'nom_estacio': 'Santa Cova Superior'}), ('CI', {'linia': 5.0, 'nom_linia': 'Funiculars Montserrat', 'ordre': 4.0, 'estacio': 98.0, 'nom_estacio': 'Santa Cova Inferior'}), ('Y7', {'linia': 7.0, 'nom_linia': 'Tren del Ciment', 'ordre': 1.0, 'estacio': 51.0, 'nom_estacio': 'La Pobla de Lillet'}), ('MM', {'linia': 8.0, 'nom_linia': 'Cremallera Montserrat', 'ordre': 3.0, 'estacio': 94.0, 'nom_estacio': 'Montserrat'}), ('LE', {'linia': 9.0, 'nom_linia': 'Lleida - La Pobla', 'ordre': 1.0, 'estacio': 1.0, 'nom_estacio': 'Lleida - Pirineus'}), ('AT', {'linia': 9.0, 'nom_linia': 'Lleida - La Pobla', 'ordre': 2.0, 'estacio': 2.0, 'nom_estacio': 'Alcoletge'}), ('BG', {'linia': 9.0, 'nom_linia': 'Lleida - La Pobla', 'ordre': 6.0, 'estacio': 6.0, 'nom_estacio': 'Balaguer'}), ('SN', {'linia': 9.0, 'nom_linia': 'Lleida - La Pobla', 'ordre': 10.0, 'estacio': 10.0, 'nom_estacio': 'Santa Linya'}), ('AR', {'linia': 9.0, 'nom_linia': 'Lleida - La Pobla', 'ordre': 11.0, 'estacio': 11.0, 'nom_estacio': 'Àger'}), ('TP', {'linia': 9.0, 'nom_linia': 'Lleida - La Pobla', 'ordre': 15.0, 'estacio': 15.0, 'nom_estacio': 'Tremp'}), ('SD', {'linia': 9.0, 'nom_linia': 'Lleida - La Pobla', 'ordre': 16.0, 'estacio': 16.0, 'nom_estacio': 'Salàs de Pallars'}), ('GR', {'linia': 1.0, 'nom_linia': 'Barcelona-Vallès', 'ordre': 3.0, 'estacio': 3.0, 'nom_estacio': 'Gràcia'}), ('SR', {'linia': 1.0, 'nom_linia': 'Barcelona-Vallès', 'ordre': 8.0, 'estacio': 8.0, 'nom_estacio': 'Sarrià'}), ('PD', {'linia': 1.0, 'nom_linia': 'Barcelona-Vallès', 'ordre': 11.0, 'estacio': 11.0, 'nom_estacio': 'Pàdua'}), ('EP', {'linia': 1.0, 'nom_linia': 'Barcelona-Vallès', 'ordre': 12.0, 'estacio': 12.0, 'nom_estacio': 'El Putxet'}), ('TB', {'linia': 1.0, 'nom_linia': 'Barcelona-Vallès', 'ordre': 13.0, 'estacio': 13.0, 'nom_estacio': 'Av.Tibidabo'}), ('VS', {'linia': 1.0, 'nom_linia': 'Barcelona-Vallès', 'ordre': 22.0, 'estacio': 15.0, 'nom_estacio': 'Vallvidrera Superior'}), ('LP', {'linia': 1.0, 'nom_linia': 'Barcelona-Vallès', 'ordre': 24.0, 'estacio': 17.0, 'nom_estacio': 'Les Planes'}), ('VD', {'linia': 1.0, 'nom_linia': 'Barcelona-Vallès', 'ordre': 26.0, 'estacio': 19.0, 'nom_estacio': 'Valldoreix'}), ('HG', {'linia': 1.0, 'nom_linia': 'Barcelona-Vallès', 'ordre': 32.0, 'estacio': 22.0, 'nom_estacio': 'Hospital General'}), ('TR', {'linia': 1.0, 'nom_linia': 'Barcelona-Vallès', 'ordre': 35.0, 'estacio': 25.0, 'nom_estacio': 'Terrassa Rambla'}), ('VP', {'linia': 1.0, 'nom_linia': 'Barcelona-Vallès', 'ordre': 36.0, 'estacio': 42.0, 'nom_estacio': 'Vallparadís Universitat'}), ('VO', {'linia': 1.0, 'nom_linia': 'Barcelona-Vallès', 'ordre': 40.0, 'estacio': 27.0, 'nom_estacio': 'Volpelleres'}), ('UN', {'linia': 1.0, 'nom_linia': 'Barcelona-Vallès', 'ordre': 43.0, 'estacio': 30.0, 'nom_estacio': 'Universitat Autònoma'}), ('SB', {'linia': 1.0, 'nom_linia': 'Barcelona-Vallès', 'ordre': 45.0, 'estacio': 32.0, 'nom_estacio': 'Sabadell Estació'}), ('PN', {'linia': 1.0, 'nom_linia': 'Barcelona-Vallès', 'ordre': 51.0, 'estacio': 38.0, 'nom_estacio': 'Sabadell Parc Nord'}), ('IC', {'linia': 2.0, 'nom_linia': 'Llobregat-Anoia', 'ordre': 3.0, 'estacio': 50.0, 'nom_estacio': 'Ildefons Cerdà'}), ('EU', {'linia': 2.0, 'nom_linia': 'Llobregat-Anoia', 'ordre': 4.0, 'estacio': 57.0, 'nom_estacio': 'Europa | Fira'}), ('AL', {'linia': 2.0, 'nom_linia': 'Llobregat-Anoia', 'ordre': 8.0, 'estacio': 54.0, 'nom_estacio': 'Almeda'}), ('CO', {'linia': 2.0, 'nom_linia': 'Llobregat-Anoia', 'ordre': 9.0, 'estacio': 55.0, 'nom_estacio': 'Cornellà Riera'}), ('CG', {'linia': 2.0, 'nom_linia': 'Llobregat-Anoia', 'ordre': 22.0, 'estacio': 62.0, 'nom_estacio': 'Colònia Güell'}), ('QC', {'linia': 2.0, 'nom_linia': 'Llobregat-Anoia', 'ordre': 26.0, 'estacio': 67.0, 'nom_estacio': 'Quatre Camins'}), ('SA', {'linia': 2.0, 'nom_linia': 'Llobregat-Anoia', 'ordre': 28.0, 'estacio': 69.0, 'nom_estacio': 'Sant Andreu de la Barca'}), ('MV', {'linia': 2.0, 'nom_linia': 'Llobregat-Anoia', 'ordre': 30.0, 'estacio': 71.0, 'nom_estacio': 'Martorell Vila | Castellbisbal'}), ('AB', {'linia': 2.0, 'nom_linia': 'Llobregat-Anoia', 'ordre': 33.0, 'estacio': 73.0, 'nom_estacio': 'Abrera'}), ('AE', {'linia': 2.0, 'nom_linia': 'Llobregat-Anoia', 'ordre': 41.0, 'estacio': 75.0, 'nom_estacio': 'Aeri de Montserrat'}), ('SV', {'linia': 2.0, 'nom_linia': 'Llobregat-Anoia', 'ordre': 44.0, 'estacio': 78.0, 'nom_estacio': 'Sant Vicenç | Castellgalí'}), ('MB', {'linia': 2.0, 'nom_linia': 'Llobregat-Anoia', 'ordre': 47.0, 'estacio': 81.0, 'nom_estacio': 'Manresa Baixador'}), ('SE', {'linia': 2.0, 'nom_linia': 'Llobregat-Anoia', 'ordre': 51.0, 'estacio': 82.0, 'nom_estacio': 'Sant Esteve Sesrovires'}), ('VN', {'linia': 2.0, 'nom_linia': 'Llobregat-Anoia', 'ordre': 59.0, 'estacio': 90.0, 'nom_estacio': 'Vilanova del Camí'}), ('GI', {'linia': 3.0, 'nom_linia': 'Funicular de Gelida', 'ordre': 1.0, 'estacio': 59.0, 'nom_estacio': 'Gelida Inferior'}), ('Y8', {'linia': 7.0, 'nom_linia': 'Tren del Ciment', 'ordre': 2.0, 'estacio': 52.0, 'nom_estacio': \"Castellar de n'Hug\"}), ('MT', {'linia': 8.0, 'nom_linia': 'Cremallera Montserrat', 'ordre': 1.0, 'estacio': 76.0, 'nom_estacio': 'Monistrol de Montserrat'}), ('VB', {'linia': 9.0, 'nom_linia': 'Lleida - La Pobla', 'ordre': 3.0, 'estacio': 3.0, 'nom_estacio': 'Vilanova de la Barca'}), ('RM', {'linia': 9.0, 'nom_linia': 'Lleida - La Pobla', 'ordre': 4.0, 'estacio': 4.0, 'nom_estacio': 'Térmens'}), ('VF', {'linia': 9.0, 'nom_linia': 'Lleida - La Pobla', 'ordre': 5.0, 'estacio': 5.0, 'nom_estacio': 'Vallfogona de Balaguer'}), ('GB', {'linia': 9.0, 'nom_linia': 'Lleida - La Pobla', 'ordre': 7.0, 'estacio': 7.0, 'nom_estacio': 'Gerb'}), ('LS', {'linia': 9.0, 'nom_linia': 'Lleida - La Pobla', 'ordre': 9.0, 'estacio': 9.0, 'nom_estacio': 'Vilanova de la Sal'}), ('GT', {'linia': 9.0, 'nom_linia': 'Lleida - La Pobla', 'ordre': 13.0, 'estacio': 13.0, 'nom_estacio': 'Guardia de Tremp'}), ('PS', {'linia': 9.0, 'nom_linia': 'Lleida - La Pobla', 'ordre': 17.0, 'estacio': 17.0, 'nom_estacio': 'La Pobla de Segur'})])"
      ]
     },
     "execution_count": 40,
     "metadata": {},
     "output_type": "execute_result"
    }
   ],
   "source": [
    "station_positions.items()"
   ]
  },
  {
   "cell_type": "code",
   "execution_count": 46,
   "metadata": {},
   "outputs": [
    {
     "name": "stdout",
     "output_type": "stream",
     "text": [
      "Pl. Catalunya: PC\n",
      "Provença: PR\n",
      "Gràcia: GR\n",
      "Sant Gervasi: SG\n",
      "Muntaner: MN\n",
      "La Bonanova: BN\n",
      "Les Tres Torres: TT\n",
      "Sarrià: SR\n",
      "Peu del Funicular: PF\n",
      "Baixador de Vallvidrera: VL\n",
      "Les Planes: LP\n",
      "La Floresta: LF\n",
      "Valldoreix: VD\n",
      "Sant Cugat: SC\n",
      "Volpelleres: VO\n",
      "Sant Joan: SJ\n",
      "Bellaterra: BT\n",
      "Universitat Autònoma: UN\n",
      "Sant Quirze: SQ\n",
      "Can Feu | Gràcia: CF\n",
      "Sabadell Pl. Major: PJ\n",
      "Creu Alta: CT\n",
      "Sabadell Nord: NO\n",
      "Sabadell Parc Nord: PN\n"
     ]
    }
   ],
   "source": [
    "idx2station = {k:v['nom_estacio'] for k, v in station_positions.items()}\n",
    "station2idx = {v:k for k, v in idx2station.items()}\n",
    "\n",
    "\n",
    "s2_stations = [\n",
    "    \"Pl. Catalunya\",\n",
    "    \"Provença\",\n",
    "    \"Gràcia\",\n",
    "    \"Sant Gervasi\",\n",
    "    \"Muntaner\",\n",
    "    \"La Bonanova\",\n",
    "    \"Les Tres Torres\",\n",
    "    \"Sarrià\",\n",
    "    \"Peu del Funicular\",\n",
    "    \"Baixador de Vallvidrera\",\n",
    "    \"Les Planes\",\n",
    "    \"La Floresta\",\n",
    "    \"Valldoreix\",\n",
    "    \"Sant Cugat\",\n",
    "    \"Volpelleres\",\n",
    "    \"Sant Joan\",\n",
    "    \"Bellaterra\",\n",
    "    \"Universitat Autònoma\",\n",
    "    \"Sant Quirze\",\n",
    "    \"Can Feu | Gràcia\",\n",
    "    \"Sabadell Pl. Major\",\n",
    "    \"Creu Alta\",\n",
    "    \"Sabadell Nord\",\n",
    "    \"Sabadell Parc Nord\"\n",
    "]\n",
    "for station in s2_stations:\n",
    "    print(f\"{station}: {station2idx[station]}\")"
   ]
  },
  {
   "cell_type": "code",
   "execution_count": null,
   "metadata": {},
   "outputs": [],
   "source": [
    "s2_stations = [\n",
    "    \"Barcelona Plaça Catalunya\",\n",
    "    \"Provença\",\n",
    "    \"Gràcia\",\n",
    "    \"Sant Gervasi\",\n",
    "    \"Muntaner\",\n",
    "    \"La Bonanova\",\n",
    "    \"Les Tres Torres\",\n",
    "    \"Sarrià\",\n",
    "    \"Peu del Funicular\",\n",
    "    \"Baixador de Vallvidrera\",\n",
    "    \"Les Planes\",\n",
    "    \"La Floresta\",\n",
    "    \"Valldoreix\",\n",
    "    \"Sant Cugat\",\n",
    "    \"Volpelleres\",\n",
    "    \"Sant Joan\",\n",
    "    \"Bellaterra\",\n",
    "    \"Universitat Autònoma\",\n",
    "    \"Sant Quirze\",\n",
    "    \"Can Feu | Gràcia\",\n",
    "    \"Sabadell Plaça Major\",\n",
    "    \"La Creu Alta\",\n",
    "    \"Sabadell Nord\",\n",
    "    \"Sabadell Parc del Nord\"\n",
    "]"
   ]
  }
 ],
 "metadata": {
  "kernelspec": {
   "display_name": "base",
   "language": "python",
   "name": "python3"
  },
  "language_info": {
   "codemirror_mode": {
    "name": "ipython",
    "version": 3
   },
   "file_extension": ".py",
   "mimetype": "text/x-python",
   "name": "python",
   "nbconvert_exporter": "python",
   "pygments_lexer": "ipython3",
   "version": "3.9.13"
  }
 },
 "nbformat": 4,
 "nbformat_minor": 2
}
