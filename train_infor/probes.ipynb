{
 "cells": [
  {
   "cell_type": "code",
   "execution_count": 1,
   "metadata": {},
   "outputs": [],
   "source": [
    "import requests"
   ]
  },
  {
   "cell_type": "code",
   "execution_count": 2,
   "metadata": {},
   "outputs": [],
   "source": [
    "# Buscar\n",
    "user_localization = [40.4165000, -3.7025600]"
   ]
  },
  {
   "cell_type": "code",
   "execution_count": 3,
   "metadata": {},
   "outputs": [],
   "source": [
    "import requests\n",
    "\n",
    "# Define the endpoint URL for train localization\n",
    "endpoint_url = 'https://dadesobertes.fgc.cat/api/records/1.0/search/'\n",
    "\n",
    "# Set up the parameters\n",
    "params = {\n",
    "    'dataset': 'posicionament-dels-trens',\n",
    "    'rows': 100,  # Number of records to fetch\n",
    "    'q': 'lin:S2'  # Replace LINE_ID with the specific line you want to filter by\n",
    "}\n",
    "\n",
    "# Make the request\n",
    "response = requests.get(endpoint_url, params=params)\n",
    "\n",
    "# Check if the response is successful\n",
    "if response.status_code == 200:\n",
    "    # Parse the JSON response\n",
    "    train_data = response.json()       \n",
    "else:\n",
    "    print(\"Error:\", response.status_code, response.text)\n"
   ]
  },
  {
   "cell_type": "code",
   "execution_count": 33,
   "metadata": {},
   "outputs": [
    {
     "data": {
      "text/plain": [
       "dict_keys(['ocupacio_m2_tram', 'lin', 'id', 'ocupacio_m1_tram', 'ocupacio_ri_tram', 'ocupacio_m2_percent', 'geo_point_2d', 'ocupacio_m1_percent', 'ocupacio_mi_percent', 'ocupacio_ri_percent', 'ocupacio_mi_tram', 'origen', 'dir', 'properes_parades', 'desti', 'en_hora', 'estacionat_a', 'ut', 'tipus_unitat'])"
      ]
     },
     "execution_count": 33,
     "metadata": {},
     "output_type": "execute_result"
    }
   ],
   "source": [
    "train_data['records'][0]['fields'].keys()"
   ]
  },
  {
   "cell_type": "code",
   "execution_count": null,
   "metadata": {},
   "outputs": [],
   "source": [
    "train_data['records'][0]['fields']"
   ]
  },
  {
   "cell_type": "code",
   "execution_count": 41,
   "metadata": {},
   "outputs": [],
   "source": [
    "trains = []\n",
    "for data in train_data['records']:   \n",
    "    geo = data['fields']['geo_point_2d']\n",
    "    trains.append({'id': data['fields']['id'], 'lat': geo[0], 'lon': geo[1]})"
   ]
  },
  {
   "cell_type": "code",
   "execution_count": 5,
   "metadata": {},
   "outputs": [
    {
     "ename": "NameError",
     "evalue": "name 'trains' is not defined",
     "output_type": "error",
     "traceback": [
      "\u001b[1;31m---------------------------------------------------------------------------\u001b[0m",
      "\u001b[1;31mNameError\u001b[0m                                 Traceback (most recent call last)",
      "\u001b[1;32m~\\AppData\\Local\\Temp\\ipykernel_19788\\3697484228.py\u001b[0m in \u001b[0;36m<module>\u001b[1;34m\u001b[0m\n\u001b[0;32m     17\u001b[0m \u001b[0mmin_distance\u001b[0m \u001b[1;33m=\u001b[0m \u001b[0mfloat\u001b[0m\u001b[1;33m(\u001b[0m\u001b[1;34m'inf'\u001b[0m\u001b[1;33m)\u001b[0m\u001b[1;33m\u001b[0m\u001b[1;33m\u001b[0m\u001b[0m\n\u001b[0;32m     18\u001b[0m \u001b[1;33m\u001b[0m\u001b[0m\n\u001b[1;32m---> 19\u001b[1;33m \u001b[1;32mfor\u001b[0m \u001b[0mtrain\u001b[0m \u001b[1;32min\u001b[0m \u001b[0mtrains\u001b[0m\u001b[1;33m:\u001b[0m\u001b[1;33m\u001b[0m\u001b[1;33m\u001b[0m\u001b[0m\n\u001b[0m\u001b[0;32m     20\u001b[0m     \u001b[0mdistance\u001b[0m \u001b[1;33m=\u001b[0m \u001b[0mhaversine\u001b[0m\u001b[1;33m(\u001b[0m\u001b[0muser_lat\u001b[0m\u001b[1;33m,\u001b[0m \u001b[0muser_lon\u001b[0m\u001b[1;33m,\u001b[0m \u001b[0mtrain\u001b[0m\u001b[1;33m[\u001b[0m\u001b[1;34m'lat'\u001b[0m\u001b[1;33m]\u001b[0m\u001b[1;33m,\u001b[0m \u001b[0mtrain\u001b[0m\u001b[1;33m[\u001b[0m\u001b[1;34m'lon'\u001b[0m\u001b[1;33m]\u001b[0m\u001b[1;33m)\u001b[0m\u001b[1;33m\u001b[0m\u001b[1;33m\u001b[0m\u001b[0m\n\u001b[0;32m     21\u001b[0m     \u001b[1;32mif\u001b[0m \u001b[0mdistance\u001b[0m \u001b[1;33m<\u001b[0m \u001b[0mmin_distance\u001b[0m\u001b[1;33m:\u001b[0m\u001b[1;33m\u001b[0m\u001b[1;33m\u001b[0m\u001b[0m\n",
      "\u001b[1;31mNameError\u001b[0m: name 'trains' is not defined"
     ]
    }
   ],
   "source": [
    "import math\n",
    "\n",
    "def haversine(lat1, lon1, lat2, lon2):\n",
    "    R = 6371  # Radius of the Earth in km\n",
    "    dlat = math.radians(lat2 - lat1)\n",
    "    dlon = math.radians(lon2 - lon1)\n",
    "    a = math.sin(dlat / 2) ** 2 + math.cos(math.radians(lat1)) * math.cos(math.radians(lat2)) * math.sin(dlon / 2) ** 2\n",
    "    c = 2 * math.atan2(math.sqrt(a), math.sqrt(1 - a))\n",
    "    return R * c\n",
    "\n",
    "# User location\n",
    "user_lat = 41.3851  # Example latitude\n",
    "user_lon = 2.1734   # Example longitude\n",
    "\n",
    "# Find the nearest train\n",
    "nearest_train = None\n",
    "min_distance = float('inf')\n",
    "\n",
    "for train in trains:\n",
    "    distance = haversine(user_lat, user_lon, train['lat'], train['lon'])\n",
    "    if distance < min_distance:\n",
    "        min_distance = distance\n",
    "        nearest_train = train\n",
    "\n",
    "print(f\"The nearest train is {nearest_train['id']} at a distance of {min_distance:.2f} km\")\n"
   ]
  },
  {
   "cell_type": "code",
   "execution_count": 18,
   "metadata": {},
   "outputs": [],
   "source": [
    "def get_trains(rows = 100, line = 'S2'):\n",
    "    # Define the endpoint URL for train localization\n",
    "    endpoint_url = 'https://dadesobertes.fgc.cat/api/records/1.0/search/'\n",
    "\n",
    "    # Set up the parameters\n",
    "    params = {\n",
    "        'dataset': 'posicionament-dels-trens',\n",
    "        'rows': rows,  # Number of records to fetch\n",
    "        'q': f'lin:{line}'  # Replace LINE_ID with the specific line you want to filter by\n",
    "    }\n",
    "\n",
    "    # Make the request\n",
    "    response = requests.get(endpoint_url, params=params)\n",
    "\n",
    "    # Check if the response is successful\n",
    "    if response.status_code == 200:\n",
    "        # Parse the JSON response\n",
    "        train_data = response.json()       \n",
    "    else:\n",
    "        print(\"Error:\", response.status_code, response.text)\n",
    "    return train_data\n",
    "\n",
    "def haversine(lat1, lon1, lat2, lon2):\n",
    "    R = 6371  # Radius of the Earth in km\n",
    "    dlat = math.radians(lat2 - lat1)\n",
    "    dlon = math.radians(lon2 - lon1)\n",
    "    a = math.sin(dlat / 2) ** 2 + math.cos(math.radians(lat1)) * math.cos(math.radians(lat2)) * math.sin(dlon / 2) ** 2\n",
    "    c = 2 * math.atan2(math.sqrt(a), math.sqrt(1 - a))\n",
    "    return R * c\n",
    "\n",
    "def get_my_train(user_lat, user_lon, trains_information):\n",
    "    trains_info = []\n",
    "    for data in trains_information['records']:   \n",
    "        geo = data['fields']['geo_point_2d']\n",
    "        trains_info.append({'id': data['fields']['id'], 'lat': geo[0], 'lon': geo[1]})\n",
    "    \n",
    "    nearest_train = None\n",
    "    min_distance = float('inf')\n",
    "\n",
    "    for train in trains_info:\n",
    "        distance = haversine(user_lat, user_lon, train['lat'], train['lon'])\n",
    "        if distance < min_distance:\n",
    "            min_distance = distance\n",
    "            nearest_train = train\n",
    "            \n",
    "    return nearest_train\n",
    "\n",
    "def get_train(user_lat, user_lon):\n",
    "    trains_information = get_trains()\n",
    "    nearest_train = get_my_train(user_lat = user_lat, \n",
    "                            user_lon = user_lon, \n",
    "                            trains_information = trains_information)\n",
    "    # Get my train\n",
    "    for train in trains_information['records']:\n",
    "        if train['fields']['id'] == nearest_train['id']:\n",
    "            my_train = train\n",
    "            break\n",
    "    return my_train\n",
    "    \n",
    "my_train = get_train(user_lat = 41.3851, user_lon = 2.1734)"
   ]
  },
  {
   "cell_type": "code",
   "execution_count": 24,
   "metadata": {},
   "outputs": [
    {
     "data": {
      "text/plain": [
       "'Peu del Funicular'"
      ]
     },
     "execution_count": 24,
     "metadata": {},
     "output_type": "execute_result"
    }
   ],
   "source": [
    "def get_next_stations(my_train):\n",
    "    stations = my_train['fields']['properes_parades']\n",
    "    stations = stations.split(';')\n",
    "    return eval(stations[0])['parada']\n",
    "code = get_next_stations(my_train)\n",
    "get_station_name_by_code(code)"
   ]
  },
  {
   "cell_type": "code",
   "execution_count": 10,
   "metadata": {},
   "outputs": [
    {
     "data": {
      "text/plain": [
       "dict_keys(['datasetid', 'recordid', 'fields', 'geometry', 'record_timestamp'])"
      ]
     },
     "execution_count": 10,
     "metadata": {},
     "output_type": "execute_result"
    }
   ],
   "source": [
    "my_train.keys()"
   ]
  },
  {
   "cell_type": "code",
   "execution_count": 85,
   "metadata": {},
   "outputs": [
    {
     "data": {
      "text/plain": [
       "['PR',\n",
       " 'GR',\n",
       " 'SG',\n",
       " 'MN',\n",
       " 'BN',\n",
       " 'TT',\n",
       " 'SR',\n",
       " 'PF',\n",
       " 'VL',\n",
       " 'LP',\n",
       " 'LF',\n",
       " 'VD',\n",
       " 'SC',\n",
       " 'VO',\n",
       " 'SJ',\n",
       " 'BT',\n",
       " 'UN',\n",
       " 'SQ',\n",
       " 'CF',\n",
       " 'PJ',\n",
       " 'CT',\n",
       " 'NO',\n",
       " 'PN']"
      ]
     },
     "execution_count": 85,
     "metadata": {},
     "output_type": "execute_result"
    }
   ],
   "source": [
    "next_stations = [eval(parada)['parada'] for parada in my_train['fields']['properes_parades'].split(';')]"
   ]
  },
  {
   "cell_type": "code",
   "execution_count": 11,
   "metadata": {},
   "outputs": [
    {
     "name": "stdout",
     "output_type": "stream",
     "text": [
      "The full name for station code PR is: Provença\n"
     ]
    }
   ],
   "source": [
    "import requests\n",
    "\n",
    "# Define the endpoint URL for the FGC stations dataset\n",
    "endpoint_url = 'https://dadesobertes.fgc.cat/api/records/1.0/search/'\n",
    "\n",
    "# Function to get the full name based on station code\n",
    "def get_station_name_by_code(station_code):\n",
    "    # Set up the parameters\n",
    "    params = {\n",
    "        'dataset': 'codigo-estaciones',\n",
    "        'q': station_code,\n",
    "        'rows': 1  # Assuming station codes are unique, fetch one record\n",
    "    }\n",
    "\n",
    "    # Make the request\n",
    "    response = requests.get(endpoint_url, params=params)\n",
    "\n",
    "    # Check if the response is successful\n",
    "    if response.status_code == 200:\n",
    "        # Parse the JSON response\n",
    "        data = response.json()\n",
    "        if data['records']:\n",
    "            fields = data['records'][0]['fields']\n",
    "            return fields['nom_estacio']\n",
    "        else:\n",
    "            return \"Station not found\"\n",
    "    else:\n",
    "        return f\"Error: {response.status_code}, {response.text}\"\n",
    "\n",
    "# Example usage\n",
    "station_code = 'PR'\n",
    "station_name = get_station_name_by_code(station_code)\n",
    "print(f\"The full name for station code {station_code} is: {station_name}\")\n"
   ]
  },
  {
   "cell_type": "code",
   "execution_count": 13,
   "metadata": {},
   "outputs": [],
   "source": [
    "import requests\n",
    "\n",
    "# URL for the FGC API endpoint that provides station data\n",
    "api_url = 'https://dadesobertes.fgc.cat/api/explore/v2.1/console/'\n",
    "\n",
    "# Assuming there is an endpoint for getting station details (you need to explore the API to find the exact one)\n",
    "response = requests.get(f'{api_url}/lines/S2/stations')\n",
    "\n",
    "# Check if the request was successful\n",
    "#if response.status_code == 200:\n",
    "#    stations = response.json()\n",
    "#    for station in stations:\n",
    "#        print(f\"Station: {station['name']}, Coordinates: ({station['lat']}, {station['lng']})\")\n",
    "#else:\n",
    "#    print(f\"Failed to retrieve data: {response.status_code}\")\n",
    "\n",
    "# Example output handling (the exact fields will depend on the API response structure)\n"
   ]
  }
 ],
 "metadata": {
  "kernelspec": {
   "display_name": "base",
   "language": "python",
   "name": "python3"
  },
  "language_info": {
   "codemirror_mode": {
    "name": "ipython",
    "version": 3
   },
   "file_extension": ".py",
   "mimetype": "text/x-python",
   "name": "python",
   "nbconvert_exporter": "python",
   "pygments_lexer": "ipython3",
   "version": "3.9.13"
  }
 },
 "nbformat": 4,
 "nbformat_minor": 2
}
